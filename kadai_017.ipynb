{
  "nbformat": 4,
  "nbformat_minor": 0,
  "metadata": {
    "colab": {
      "provenance": []
    },
    "kernelspec": {
      "name": "python3",
      "display_name": "Python 3"
    },
    "language_info": {
      "name": "python"
    }
  },
  "cells": [
    {
      "cell_type": "code",
      "execution_count": 4,
      "metadata": {
        "colab": {
          "base_uri": "https://localhost:8080/"
        },
        "id": "1fMegEvt2YI1",
        "outputId": "8732f657-9e43-4515-c03c-849a1bb81392"
      },
      "outputs": [
        {
          "output_type": "stream",
          "name": "stdout",
          "text": [
            "Bobは大人です。\n",
            "Aliceは大人です。\n",
            "Eronは大人ではありません。\n"
          ]
        }
      ],
      "source": [
        "# Humanクラスを作成\n",
        "class Human:\n",
        "    # コンストラクタ\n",
        "    def __init__(self, name, age):\n",
        "        self.name = name\n",
        "        self.age = age\n",
        "\n",
        "    # check_adultメソッドを作成\n",
        "    def check_adult(self):\n",
        "        if self.age >= 20:\n",
        "            print(f\"{self.name}は大人です。\")\n",
        "        else:\n",
        "            print(f\"{self.name}は大人ではありません。\")\n",
        "\n",
        "# インスタンス化\n",
        "Bob = Human(\"Bob\", 25)\n",
        "Alice = Human(\"Alice\", 20)\n",
        "Eron = Human(\"Eron\", 15)\n",
        "\n",
        "# 配列に追加\n",
        "people = [Bob, Alice, Eron]\n",
        "\n",
        "# check_adultメソッドを実行\n",
        "for person in people:\n",
        "    person.check_adult()\n"
      ]
    },
    {
      "cell_type": "code",
      "source": [],
      "metadata": {
        "id": "Dq9kyQQU3ILf"
      },
      "execution_count": null,
      "outputs": []
    }
  ]
}