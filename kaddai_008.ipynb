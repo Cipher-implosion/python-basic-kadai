{
  "nbformat": 4,
  "nbformat_minor": 0,
  "metadata": {
    "colab": {
      "provenance": []
    },
    "kernelspec": {
      "name": "python3",
      "display_name": "Python 3"
    },
    "language_info": {
      "name": "python"
    }
  },
  "cells": [
    {
      "cell_type": "code",
      "execution_count": 11,
      "metadata": {
        "colab": {
          "base_uri": "https://localhost:8080/"
        },
        "id": "zh1Ku-UDiExA",
        "outputId": "214c7f31-2a65-4a05-8e8e-a063d7a25eee"
      },
      "outputs": [
        {
          "output_type": "stream",
          "name": "stdout",
          "text": [
            "29\n",
            "29\n"
          ]
        }
      ],
      "source": [
        "# randomモジュールをインポート\n",
        "import random\n",
        "\n",
        "# varに1～100までのランダムな整数を入れる\n",
        "var = random.randint(1, 100)\n",
        "print(var)\n",
        "\n",
        "# 条件\n",
        "if var % 15 == 0:\n",
        "  print(\"FizzBazz\")\n",
        "if var % 3 == 0:\n",
        "  print(\"Fizz\")\n",
        "if var % 5 == 0:\n",
        "  print(\"Bazz\")\n",
        "else:\n",
        "  print(var)\n"
      ]
    }
  ]
}