{
  "nbformat": 4,
  "nbformat_minor": 0,
  "metadata": {
    "colab": {
      "provenance": []
    },
    "kernelspec": {
      "name": "python3",
      "display_name": "Python 3"
    },
    "language_info": {
      "name": "python"
    }
  },
  "cells": [
    {
      "cell_type": "code",
      "execution_count": 7,
      "metadata": {
        "colab": {
          "base_uri": "https://localhost:8080/"
        },
        "id": "dGxL2ULkxAT6",
        "outputId": "fadec164-5898-4f34-92f6-8c785fffcb37"
      },
      "outputs": [
        {
          "output_type": "stream",
          "name": "stdout",
          "text": [
            "Name: alice, Age: 20\n"
          ]
        }
      ],
      "source": [
        "# Humanクラスを作成\n",
        "class Human:\n",
        "    # コンストラクタ\n",
        "    def __init__(self, name, age):\n",
        "        self.name = name\n",
        "        self.age = age\n",
        "\n",
        "    # printinfoメソッドを作成\n",
        "    def printinfo(self):\n",
        "        print(f\"Name: {self.name}, Age: {self.age}\")\n",
        "# インスタンス化\n",
        "alice = Human(\"alice\", 20)\n",
        "\n",
        "# インスタンスのメソッドを使用\n",
        "alice.printinfo()\n"
      ]
    }
  ]
}