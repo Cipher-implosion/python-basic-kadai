{
  "nbformat": 4,
  "nbformat_minor": 0,
  "metadata": {
    "colab": {
      "provenance": []
    },
    "kernelspec": {
      "name": "python3",
      "display_name": "Python 3"
    },
    "language_info": {
      "name": "python"
    }
  },
  "cells": [
    {
      "cell_type": "code",
      "execution_count": 3,
      "metadata": {
        "colab": {
          "base_uri": "https://localhost:8080/"
        },
        "id": "dfBTzPdPKaKI",
        "outputId": "70a8b0c6-cff3-499c-d411-8abfbf39df83"
      },
      "outputs": [
        {
          "output_type": "stream",
          "name": "stdout",
          "text": [
            "消費税を加えた価格は10780.0です。\n"
          ]
        }
      ],
      "source": [
        "# 消費税を加えた計算結果を返す関数\n",
        "def argument(price: int, vat: float) -> float:\n",
        "  return price * vat\n",
        "\n",
        "# 関数の呼び出し\n",
        "total = argument(9800, 1.1)\n",
        "\n",
        "# 結果を出力\n",
        "print(f\"消費税を加えた価格は{total}円です。\")"
      ]
    }
  ]
}