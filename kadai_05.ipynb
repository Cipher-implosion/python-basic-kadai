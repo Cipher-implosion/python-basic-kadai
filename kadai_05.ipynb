{
  "nbformat": 4,
  "nbformat_minor": 0,
  "metadata": {
    "colab": {
      "provenance": [],
      "toc_visible": true
    },
    "kernelspec": {
      "name": "python3",
      "display_name": "Python 3"
    },
    "language_info": {
      "name": "python"
    }
  },
  "cells": [
    {
      "cell_type": "code",
      "execution_count": 2,
      "metadata": {
        "colab": {
          "base_uri": "https://localhost:8080/"
        },
        "id": "Me2gfXfQe-Tj",
        "outputId": "b60607a1-635d-437a-e291-8b5dece6ae9f"
      },
      "outputs": [
        {
          "output_type": "stream",
          "name": "stdout",
          "text": [
            "75.0㎠\n"
          ]
        }
      ],
      "source": [
        "'''\n",
        "上辺：10cm\n",
        "下辺：20cm\n",
        "高さ：5cm\n",
        "\n",
        "公式：台形の面積 =（上辺＋下辺）× 高さ ÷ 2\n",
        "'''\n",
        "\n",
        "# 上辺を定義する\n",
        "top = 10\n",
        "\n",
        "#下辺を定義する\n",
        "bottom = 20\n",
        "\n",
        "# 高さを定義する\n",
        "height = 5\n",
        "\n",
        "# 台型の面積を求める\n",
        "trapezoid = (top + bottom) * height / 2\n",
        "\n",
        "# 結果を表示する\n",
        "print(f\"{trapezoid}㎠\")"
      ]
    }
  ]
}